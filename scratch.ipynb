{
 "cells": [
  {
   "cell_type": "code",
   "execution_count": 1,
   "metadata": {
    "jupyter": {
     "outputs_hidden": true
    }
   },
   "outputs": [],
   "source": [
    "# !pip3 install gspread\n",
    "# !pip3 install --upgrade google-api-python-client oauth2client "
   ]
  },
  {
   "cell_type": "code",
   "execution_count": 2,
   "metadata": {},
   "outputs": [],
   "source": [
    "import requests \n",
    "import json\n",
    "import gspread\n",
    "import pandas as pd\n",
    "from oauth2client.service_account import ServiceAccountCredentials"
   ]
  },
  {
   "cell_type": "code",
   "execution_count": 39,
   "metadata": {},
   "outputs": [],
   "source": [
    "def date_to_url(s):\n",
    "    \"\"\" input 17/05/1996 \n",
    "        return 19962F052F17 (url format)\"\"\"\n",
    "    l = s.split('/')\n",
    "    if len(l)==2:\n",
    "        year=2022\n",
    "        day,month = l\n",
    "    elif len(l)==3:\n",
    "        day,month,year = l\n",
    "\n",
    "    return f'{year}%2F{month}%2F{day}'\n",
    "    "
   ]
  },
  {
   "cell_type": "code",
   "execution_count": 40,
   "metadata": {},
   "outputs": [],
   "source": [
    "gc = gspread.service_account() #gc = gspread.service_account(filename='path/to/the/downloaded/file.json')\n",
    "sh = gc.open(\"is-there-tgvmax\")\n"
   ]
  },
  {
   "cell_type": "code",
   "execution_count": 41,
   "metadata": {},
   "outputs": [],
   "source": [
    "worksheet_list = [sh for sh in sh.worksheets() if '@' in sh.title]\n",
    "sh=worksheet_list[0]"
   ]
  },
  {
   "cell_type": "code",
   "execution_count": 23,
   "metadata": {},
   "outputs": [
    {
     "data": {
      "text/plain": [
       "'FALSE'"
      ]
     },
     "execution_count": 23,
     "metadata": {},
     "output_type": "execute_result"
    }
   ],
   "source": []
  },
  {
   "cell_type": "code",
   "execution_count": 57,
   "metadata": {},
   "outputs": [],
   "source": [
    "origine,destination,date,heure_min,heure_max,_,email_envoye,force_update=sh.row_values(2)\n"
   ]
  },
  {
   "cell_type": "code",
   "execution_count": 74,
   "metadata": {},
   "outputs": [
    {
     "name": "stdout",
     "output_type": "stream",
     "text": [
      "PARIS+(intramuros) GRENOBLE 22/06 7 23  FALSE FALSE\n"
     ]
    }
   ],
   "source": [
    "print(origine,destination,date,heure_min,heure_max,_,email_envoye,force_update)"
   ]
  },
  {
   "cell_type": "code",
   "execution_count": 59,
   "metadata": {},
   "outputs": [],
   "source": [
    "request_start = 'https://ressources.data.sncf.com/api/records/1.0/search/?dataset=tgvmax&q=&sort=-date&facet=date&facet=origine&facet=destination&facet=od_happy_card'\n",
    "full_request = f'{request_start}&refine.destination={destination}&refine.origine={origine}&refine.date={date_to_url(date)}'\n",
    "r=requests.get(full_request)"
   ]
  },
  {
   "cell_type": "code",
   "execution_count": 60,
   "metadata": {},
   "outputs": [
    {
     "data": {
      "text/plain": [
       "'https://ressources.data.sncf.com/api/records/1.0/search/?dataset=tgvmax&q=&sort=-date&facet=date&facet=origine&facet=destination&facet=od_happy_card&refine.destination=GRENOBLE&refine.origine=PARIS+(intramuros)&refine.date=2022%2F06%2F22'"
      ]
     },
     "execution_count": 60,
     "metadata": {},
     "output_type": "execute_result"
    }
   ],
   "source": [
    "full_request"
   ]
  },
  {
   "cell_type": "code",
   "execution_count": 61,
   "metadata": {},
   "outputs": [
    {
     "data": {
      "text/plain": [
       "'{\"nhits\": 6, \"parameters\": {\"dataset\": [\"tgvmax\"], \"rows\": 10, \"start\": 0, \"sort\": [\"-date\"], \"facet\": [\"date\", \"origine\", \"destination\", \"od_happy_card\"], \"format\": \"json\", \"timezone\": \"UTC\"}, \"records\": [{\"datasetid\": \"tgvmax\", \"recordid\": \"6400fcb4cee7348e9beeebc234e746b0ca6f924b\", \"fields\": {\"heure_arrivee\": \"13:42\", \"code_equip\": \"TGF\", \"date\": \"2022-06-22\", \"train_no\": \"6311\", \"destination\": \"GRENOBLE\", \"origine\": \"PARIS (intramuros)\", \"entity\": \"PAGRENOBLE\", \"origine_iata\": \"FRPLY\", \"od_happy_card\": \"NON\", \"axe\": \"SUD-EST\", \"destination_iata\": \"FRGNB\", \"heure_depart\": \"9:53\"}, \"record_timestamp\": \"2022-06-14T10:00:01.512Z\"}, {\"datasetid\": \"tgvmax\", \"recordid\": \"b8cfbff3eb0885a7a783ecb293b5b4490c039900\", \"fields\": {\"heure_arrivee\": \"10:48\", \"code_equip\": \"TGF\", \"date\": \"2022-06-22\", \"train_no\": \"6905\", \"destination\": \"GRENOBLE\", \"origine\": \"PARIS (intramuros)\", \"entity\": \"PAGRENOBLE\", \"origine_iata\": \"FRPLY\", \"od_happy_card\": \"NON\", \"axe\": \"SUD-EST\", \"destination_iata\": \"FRGNB\", \"heure_depart\": \"7:43\"}, \"record_timestamp\": \"2022-06-14T10:00:01.512Z\"}, {\"datasetid\": \"tgvmax\", \"recordid\": \"eac2cb1481afdcb1f18903c6487a3dcad9896e9f\", \"fields\": {\"heure_arrivee\": \"19:42\", \"code_equip\": \"TGF\", \"date\": \"2022-06-22\", \"train_no\": \"6921\", \"destination\": \"GRENOBLE\", \"origine\": \"PARIS (intramuros)\", \"entity\": \"PAGRENOBLE\", \"origine_iata\": \"FRPLY\", \"od_happy_card\": \"NON\", \"axe\": \"SUD-EST\", \"destination_iata\": \"FRGNB\", \"heure_depart\": \"16:42\"}, \"record_timestamp\": \"2022-06-14T10:00:01.512Z\"}, {\"datasetid\": \"tgvmax\", \"recordid\": \"9063b096cc6f97fe27e432a51118d9ef19d76cc7\", \"fields\": {\"heure_arrivee\": \"17:46\", \"code_equip\": \"TGF\", \"date\": \"2022-06-22\", \"train_no\": \"6919\", \"destination\": \"GRENOBLE\", \"origine\": \"PARIS (intramuros)\", \"entity\": \"PAGRENOBLE\", \"origine_iata\": \"FRPLY\", \"od_happy_card\": \"NON\", \"axe\": \"SUD-EST\", \"destination_iata\": \"FRGNB\", \"heure_depart\": \"14:43\"}, \"record_timestamp\": \"2022-06-14T10:00:01.512Z\"}, {\"datasetid\": \"tgvmax\", \"recordid\": \"0a70c9698f40a395d36eab887e8c43e24ef92a10\", \"fields\": {\"heure_arrivee\": \"21:42\", \"code_equip\": \"TGF\", \"date\": \"2022-06-22\", \"train_no\": \"6925\", \"destination\": \"GRENOBLE\", \"origine\": \"PARIS (intramuros)\", \"entity\": \"PAGRENOBLE\", \"origine_iata\": \"FRPLY\", \"od_happy_card\": \"NON\", \"axe\": \"SUD-EST\", \"destination_iata\": \"FRGNB\", \"heure_depart\": \"18:42\"}, \"record_timestamp\": \"2022-06-14T10:00:01.512Z\"}, {\"datasetid\": \"tgvmax\", \"recordid\": \"7be9557ad920d7c177756441565bae06889abf26\", \"fields\": {\"heure_arrivee\": \"20:42\", \"code_equip\": \"TGF\", \"date\": \"2022-06-22\", \"train_no\": \"6923\", \"destination\": \"GRENOBLE\", \"origine\": \"PARIS (intramuros)\", \"entity\": \"PAGRENOBLE\", \"origine_iata\": \"FRPLY\", \"od_happy_card\": \"NON\", \"axe\": \"SUD-EST\", \"destination_iata\": \"FRGNB\", \"heure_depart\": \"17:41\"}, \"record_timestamp\": \"2022-06-14T10:00:01.512Z\"}], \"facet_groups\": [{\"name\": \"date\", \"facets\": [{\"name\": \"2022\", \"count\": 6, \"state\": \"displayed\", \"path\": \"2022\", \"facets\": [{\"name\": \"06\", \"count\": 6, \"state\": \"displayed\", \"path\": \"2022/06\", \"facets\": [{\"name\": \"22\", \"count\": 6, \"state\": \"refined\", \"path\": \"2022/06/22\"}]}]}]}, {\"name\": \"origine\", \"facets\": [{\"name\": \"PARIS (intramuros)\", \"count\": 6, \"state\": \"refined\", \"path\": \"PARIS (intramuros)\"}]}, {\"name\": \"destination\", \"facets\": [{\"name\": \"GRENOBLE\", \"count\": 6, \"state\": \"refined\", \"path\": \"GRENOBLE\"}]}, {\"name\": \"od_happy_card\", \"facets\": [{\"name\": \"NON\", \"count\": 6, \"state\": \"displayed\", \"path\": \"NON\"}]}]}'"
      ]
     },
     "execution_count": 61,
     "metadata": {},
     "output_type": "execute_result"
    }
   ],
   "source": [
    "r.text"
   ]
  },
  {
   "cell_type": "code",
   "execution_count": 65,
   "metadata": {},
   "outputs": [],
   "source": [
    "dico = json.loads(r.text)"
   ]
  },
  {
   "cell_type": "code",
   "execution_count": 79,
   "metadata": {},
   "outputs": [],
   "source": [
    "def time_to_int(date):\n",
    "    return int(date.split(':')[0])"
   ]
  },
  {
   "cell_type": "code",
   "execution_count": 87,
   "metadata": {},
   "outputs": [
    {
     "name": "stdout",
     "output_type": "stream",
     "text": [
      "GO\n",
      "GO\n",
      "GO\n",
      "GO\n",
      "GO\n",
      "GO\n"
     ]
    }
   ],
   "source": [
    "for voyage in dico['records'] :\n",
    "    heure_depart = time_to_int(voyage['fields']['heure_depart'])\n",
    "    if heure_depart>=int(heure_min) and heure_depart<=int(heure_max):\n",
    "        print('GO')"
   ]
  },
  {
   "cell_type": "code",
   "execution_count": 67,
   "metadata": {},
   "outputs": [
    {
     "data": {
      "text/plain": [
       "{'nhits': 6,\n",
       " 'parameters': {'dataset': ['tgvmax'],\n",
       "  'rows': 10,\n",
       "  'start': 0,\n",
       "  'sort': ['-date'],\n",
       "  'facet': ['date', 'origine', 'destination', 'od_happy_card'],\n",
       "  'format': 'json',\n",
       "  'timezone': 'UTC'},\n",
       " 'records': [{'datasetid': 'tgvmax',\n",
       "   'recordid': '6400fcb4cee7348e9beeebc234e746b0ca6f924b',\n",
       "   'fields': {'heure_arrivee': '13:42',\n",
       "    'code_equip': 'TGF',\n",
       "    'date': '2022-06-22',\n",
       "    'train_no': '6311',\n",
       "    'destination': 'GRENOBLE',\n",
       "    'origine': 'PARIS (intramuros)',\n",
       "    'entity': 'PAGRENOBLE',\n",
       "    'origine_iata': 'FRPLY',\n",
       "    'od_happy_card': 'NON',\n",
       "    'axe': 'SUD-EST',\n",
       "    'destination_iata': 'FRGNB',\n",
       "    'heure_depart': '9:53'},\n",
       "   'record_timestamp': '2022-06-14T10:00:01.512Z'},\n",
       "  {'datasetid': 'tgvmax',\n",
       "   'recordid': 'b8cfbff3eb0885a7a783ecb293b5b4490c039900',\n",
       "   'fields': {'heure_arrivee': '10:48',\n",
       "    'code_equip': 'TGF',\n",
       "    'date': '2022-06-22',\n",
       "    'train_no': '6905',\n",
       "    'destination': 'GRENOBLE',\n",
       "    'origine': 'PARIS (intramuros)',\n",
       "    'entity': 'PAGRENOBLE',\n",
       "    'origine_iata': 'FRPLY',\n",
       "    'od_happy_card': 'NON',\n",
       "    'axe': 'SUD-EST',\n",
       "    'destination_iata': 'FRGNB',\n",
       "    'heure_depart': '7:43'},\n",
       "   'record_timestamp': '2022-06-14T10:00:01.512Z'},\n",
       "  {'datasetid': 'tgvmax',\n",
       "   'recordid': 'eac2cb1481afdcb1f18903c6487a3dcad9896e9f',\n",
       "   'fields': {'heure_arrivee': '19:42',\n",
       "    'code_equip': 'TGF',\n",
       "    'date': '2022-06-22',\n",
       "    'train_no': '6921',\n",
       "    'destination': 'GRENOBLE',\n",
       "    'origine': 'PARIS (intramuros)',\n",
       "    'entity': 'PAGRENOBLE',\n",
       "    'origine_iata': 'FRPLY',\n",
       "    'od_happy_card': 'NON',\n",
       "    'axe': 'SUD-EST',\n",
       "    'destination_iata': 'FRGNB',\n",
       "    'heure_depart': '16:42'},\n",
       "   'record_timestamp': '2022-06-14T10:00:01.512Z'},\n",
       "  {'datasetid': 'tgvmax',\n",
       "   'recordid': '9063b096cc6f97fe27e432a51118d9ef19d76cc7',\n",
       "   'fields': {'heure_arrivee': '17:46',\n",
       "    'code_equip': 'TGF',\n",
       "    'date': '2022-06-22',\n",
       "    'train_no': '6919',\n",
       "    'destination': 'GRENOBLE',\n",
       "    'origine': 'PARIS (intramuros)',\n",
       "    'entity': 'PAGRENOBLE',\n",
       "    'origine_iata': 'FRPLY',\n",
       "    'od_happy_card': 'NON',\n",
       "    'axe': 'SUD-EST',\n",
       "    'destination_iata': 'FRGNB',\n",
       "    'heure_depart': '14:43'},\n",
       "   'record_timestamp': '2022-06-14T10:00:01.512Z'},\n",
       "  {'datasetid': 'tgvmax',\n",
       "   'recordid': '0a70c9698f40a395d36eab887e8c43e24ef92a10',\n",
       "   'fields': {'heure_arrivee': '21:42',\n",
       "    'code_equip': 'TGF',\n",
       "    'date': '2022-06-22',\n",
       "    'train_no': '6925',\n",
       "    'destination': 'GRENOBLE',\n",
       "    'origine': 'PARIS (intramuros)',\n",
       "    'entity': 'PAGRENOBLE',\n",
       "    'origine_iata': 'FRPLY',\n",
       "    'od_happy_card': 'NON',\n",
       "    'axe': 'SUD-EST',\n",
       "    'destination_iata': 'FRGNB',\n",
       "    'heure_depart': '18:42'},\n",
       "   'record_timestamp': '2022-06-14T10:00:01.512Z'},\n",
       "  {'datasetid': 'tgvmax',\n",
       "   'recordid': '7be9557ad920d7c177756441565bae06889abf26',\n",
       "   'fields': {'heure_arrivee': '20:42',\n",
       "    'code_equip': 'TGF',\n",
       "    'date': '2022-06-22',\n",
       "    'train_no': '6923',\n",
       "    'destination': 'GRENOBLE',\n",
       "    'origine': 'PARIS (intramuros)',\n",
       "    'entity': 'PAGRENOBLE',\n",
       "    'origine_iata': 'FRPLY',\n",
       "    'od_happy_card': 'NON',\n",
       "    'axe': 'SUD-EST',\n",
       "    'destination_iata': 'FRGNB',\n",
       "    'heure_depart': '17:41'},\n",
       "   'record_timestamp': '2022-06-14T10:00:01.512Z'}],\n",
       " 'facet_groups': [{'name': 'date',\n",
       "   'facets': [{'name': '2022',\n",
       "     'count': 6,\n",
       "     'state': 'displayed',\n",
       "     'path': '2022',\n",
       "     'facets': [{'name': '06',\n",
       "       'count': 6,\n",
       "       'state': 'displayed',\n",
       "       'path': '2022/06',\n",
       "       'facets': [{'name': '22',\n",
       "         'count': 6,\n",
       "         'state': 'refined',\n",
       "         'path': '2022/06/22'}]}]}]},\n",
       "  {'name': 'origine',\n",
       "   'facets': [{'name': 'PARIS (intramuros)',\n",
       "     'count': 6,\n",
       "     'state': 'refined',\n",
       "     'path': 'PARIS (intramuros)'}]},\n",
       "  {'name': 'destination',\n",
       "   'facets': [{'name': 'GRENOBLE',\n",
       "     'count': 6,\n",
       "     'state': 'refined',\n",
       "     'path': 'GRENOBLE'}]},\n",
       "  {'name': 'od_happy_card',\n",
       "   'facets': [{'name': 'NON',\n",
       "     'count': 6,\n",
       "     'state': 'displayed',\n",
       "     'path': 'NON'}]}]}"
      ]
     },
     "execution_count": 67,
     "metadata": {},
     "output_type": "execute_result"
    }
   ],
   "source": [
    "dico"
   ]
  },
  {
   "cell_type": "code",
   "execution_count": null,
   "metadata": {},
   "outputs": [],
   "source": []
  }
 ],
 "metadata": {
  "kernelspec": {
   "display_name": "Python 3 (ipykernel)",
   "language": "python",
   "name": "python3"
  },
  "language_info": {
   "codemirror_mode": {
    "name": "ipython",
    "version": 3
   },
   "file_extension": ".py",
   "mimetype": "text/x-python",
   "name": "python",
   "nbconvert_exporter": "python",
   "pygments_lexer": "ipython3",
   "version": "3.8.11"
  }
 },
 "nbformat": 4,
 "nbformat_minor": 4
}
