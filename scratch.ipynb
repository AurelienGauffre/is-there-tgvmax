{
 "cells": [
  {
   "cell_type": "code",
   "execution_count": 1,
   "metadata": {
    "tags": []
   },
   "outputs": [],
   "source": [
    "# !pip3 install gspread\n",
    "# !pip3 install --upgrade google-api-python-client oauth2client "
   ]
  },
  {
   "cell_type": "code",
   "execution_count": 2,
   "metadata": {},
   "outputs": [],
   "source": [
    "quests \n",
    "import json\n",
    "import gspread\n",
    "import os\n",
    "import pandas as pd\n",
    "from oauth2client.service_account import ServiceAccountCredentials"
   ]
  },
  {
   "cell_type": "code",
   "execution_count": 3,
   "metadata": {
    "tags": []
   },
   "outputs": [],
   "source": [
    "def date_to_url(s):\n",
    "    \"\"\" input 17/05/1996 \n",
    "        return 19962F052F17 (url format)\"\"\"\n",
    "    l = s.split('/')\n",
    "    if len(l)==2:\n",
    "        year=2022\n",
    "        day,month = l\n",
    "    elif len(l)==3:\n",
    "        day,month,year = l\n",
    "\n",
    "    return f'{year}%2F{month}%2F{day}'\n",
    "def time_to_int(date):\n",
    "    return int(date.split(':')[0])"
   ]
  },
  {
   "cell_type": "code",
   "execution_count": 4,
   "metadata": {},
   "outputs": [
    {
     "data": {
      "text/plain": [
       "'/home/gauffrea/Projects/is-there-tgvmax/istheretgvmax-5273da7c9b7a.json'"
      ]
     },
     "execution_count": 4,
     "metadata": {},
     "output_type": "execute_result"
    }
   ],
   "source": [
    "os.path.abspath('istheretgvmax-5273da7c9b7a.json')\n"
   ]
  },
  {
   "cell_type": "markdown",
   "metadata": {},
   "source": [
    "# 1. Google Sheet scrapping"
   ]
  },
  {
   "cell_type": "code",
   "execution_count": 5,
   "metadata": {},
   "outputs": [
    {
     "name": "stdout",
     "output_type": "stream",
     "text": [
      "PARIS+(intramuros) GRENOBLE 22/06 17 21  FALSE FALSE\n"
     ]
    }
   ],
   "source": [
    "gc = gspread.service_account(filename=os.path.abspath('istheretgvmax-5273da7c9b7a.json')) #Put the path of your own json google token\n",
    "sh = gc.open(\"is-there-tgvmax\")\n",
    "worksheet_list = [sh for sh in sh.worksheets() if '@' in sh.title]\n",
    "sh=worksheet_list[0]\n",
    "origine,destination,date,heure_min,heure_max,_,email_envoye,force_update=sh.row_values(2)\n",
    "print(origine,destination,date,heure_min,heure_max,_,email_envoye,force_update)"
   ]
  },
  {
   "cell_type": "markdown",
   "metadata": {},
   "source": [
    "# 2. API Request"
   ]
  },
  {
   "cell_type": "code",
   "execution_count": 6,
   "metadata": {},
   "outputs": [],
   "source": [
    "origine='PARIS+(intramuros)'\n",
    "destination='GRENOBLE'\n",
    "date='22/06'\n",
    "heure_min = '17'\n",
    "heure_max = '21'"
   ]
  },
  {
   "cell_type": "code",
   "execution_count": 7,
   "metadata": {},
   "outputs": [],
   "source": [
    "request_start = 'https://ressources.data.sncf.com/api/records/1.0/search/?dataset=tgvmax&q=&sort=-date&facet=date&facet=origine&facet=destination&facet=od_happy_card'\n",
    "full_request = f'{request_start}&refine.destination={destination}&refine.origine={origine}&refine.date={date_to_url(date)}'\n",
    "request=requests.get(full_request)"
   ]
  },
  {
   "cell_type": "code",
   "execution_count": 8,
   "metadata": {},
   "outputs": [
    {
     "name": "stdout",
     "output_type": "stream",
     "text": [
      "https://ressources.data.sncf.com/api/records/1.0/search/?dataset=tgvmax&q=&sort=-date&facet=date&facet=origine&facet=destination&facet=od_happy_card&refine.destination=GRENOBLE&refine.origine=PARIS+(intramuros)&refine.date=2022%2F06%2F22\n"
     ]
    }
   ],
   "source": [
    "print(full_request)"
   ]
  },
  {
   "cell_type": "code",
   "execution_count": 9,
   "metadata": {},
   "outputs": [
    {
     "data": {
      "text/plain": [
       "'{\"nhits\": 6, \"parameters\": {\"dataset\": [\"tgvmax\"], \"rows\": 10, \"start\": 0, \"sort\": [\"-date\"], \"facet\": [\"date\", \"origine\", \"destination\", \"od_happy_card\"], \"format\": \"json\", \"timezone\": \"UTC\"}, \"records\": [{\"datasetid\": \"tgvmax\", \"recordid\": \"6400fcb4cee7348e9beeebc234e746b0ca6f924b\", \"fields\": {\"heure_arrivee\": \"13:42\", \"code_equip\": \"TGF\", \"date\": \"2022-06-22\", \"train_no\": \"6311\", \"destination\": \"GRENOBLE\", \"origine\": \"PARIS (intramuros)\", \"entity\": \"PAGRENOBLE\", \"origine_iata\": \"FRPLY\", \"od_happy_card\": \"NON\", \"axe\": \"SUD-EST\", \"destination_iata\": \"FRGNB\", \"heure_depart\": \"9:53\"}, \"record_timestamp\": \"2022-06-16T05:30:01.413Z\"}, {\"datasetid\": \"tgvmax\", \"recordid\": \"b8cfbff3eb0885a7a783ecb293b5b4490c039900\", \"fields\": {\"heure_arrivee\": \"10:48\", \"code_equip\": \"TGF\", \"date\": \"2022-06-22\", \"train_no\": \"6905\", \"destination\": \"GRENOBLE\", \"origine\": \"PARIS (intramuros)\", \"entity\": \"PAGRENOBLE\", \"origine_iata\": \"FRPLY\", \"od_happy_card\": \"NON\", \"axe\": \"SUD-EST\", \"destination_iata\": \"FRGNB\", \"heure_depart\": \"7:43\"}, \"record_timestamp\": \"2022-06-16T05:30:01.413Z\"}, {\"datasetid\": \"tgvmax\", \"recordid\": \"eac2cb1481afdcb1f18903c6487a3dcad9896e9f\", \"fields\": {\"heure_arrivee\": \"19:42\", \"code_equip\": \"TGF\", \"date\": \"2022-06-22\", \"train_no\": \"6921\", \"destination\": \"GRENOBLE\", \"origine\": \"PARIS (intramuros)\", \"entity\": \"PAGRENOBLE\", \"origine_iata\": \"FRPLY\", \"od_happy_card\": \"NON\", \"axe\": \"SUD-EST\", \"destination_iata\": \"FRGNB\", \"heure_depart\": \"16:42\"}, \"record_timestamp\": \"2022-06-16T05:30:01.413Z\"}, {\"datasetid\": \"tgvmax\", \"recordid\": \"9063b096cc6f97fe27e432a51118d9ef19d76cc7\", \"fields\": {\"heure_arrivee\": \"17:46\", \"code_equip\": \"TGF\", \"date\": \"2022-06-22\", \"train_no\": \"6919\", \"destination\": \"GRENOBLE\", \"origine\": \"PARIS (intramuros)\", \"entity\": \"PAGRENOBLE\", \"origine_iata\": \"FRPLY\", \"od_happy_card\": \"NON\", \"axe\": \"SUD-EST\", \"destination_iata\": \"FRGNB\", \"heure_depart\": \"14:43\"}, \"record_timestamp\": \"2022-06-16T05:30:01.413Z\"}, {\"datasetid\": \"tgvmax\", \"recordid\": \"0a70c9698f40a395d36eab887e8c43e24ef92a10\", \"fields\": {\"heure_arrivee\": \"21:42\", \"code_equip\": \"TGF\", \"date\": \"2022-06-22\", \"train_no\": \"6925\", \"destination\": \"GRENOBLE\", \"origine\": \"PARIS (intramuros)\", \"entity\": \"PAGRENOBLE\", \"origine_iata\": \"FRPLY\", \"od_happy_card\": \"NON\", \"axe\": \"SUD-EST\", \"destination_iata\": \"FRGNB\", \"heure_depart\": \"18:42\"}, \"record_timestamp\": \"2022-06-16T05:30:01.413Z\"}, {\"datasetid\": \"tgvmax\", \"recordid\": \"7be9557ad920d7c177756441565bae06889abf26\", \"fields\": {\"heure_arrivee\": \"20:42\", \"code_equip\": \"TGF\", \"date\": \"2022-06-22\", \"train_no\": \"6923\", \"destination\": \"GRENOBLE\", \"origine\": \"PARIS (intramuros)\", \"entity\": \"PAGRENOBLE\", \"origine_iata\": \"FRPLY\", \"od_happy_card\": \"NON\", \"axe\": \"SUD-EST\", \"destination_iata\": \"FRGNB\", \"heure_depart\": \"17:41\"}, \"record_timestamp\": \"2022-06-16T05:30:01.413Z\"}], \"facet_groups\": [{\"name\": \"date\", \"facets\": [{\"name\": \"2022\", \"count\": 6, \"state\": \"displayed\", \"path\": \"2022\", \"facets\": [{\"name\": \"06\", \"count\": 6, \"state\": \"displayed\", \"path\": \"2022/06\", \"facets\": [{\"name\": \"22\", \"count\": 6, \"state\": \"refined\", \"path\": \"2022/06/22\"}]}]}]}, {\"name\": \"origine\", \"facets\": [{\"name\": \"PARIS (intramuros)\", \"count\": 6, \"state\": \"refined\", \"path\": \"PARIS (intramuros)\"}]}, {\"name\": \"destination\", \"facets\": [{\"name\": \"GRENOBLE\", \"count\": 6, \"state\": \"refined\", \"path\": \"GRENOBLE\"}]}, {\"name\": \"od_happy_card\", \"facets\": [{\"name\": \"NON\", \"count\": 6, \"state\": \"displayed\", \"path\": \"NON\"}]}]}'"
      ]
     },
     "execution_count": 9,
     "metadata": {},
     "output_type": "execute_result"
    }
   ],
   "source": [
    "request.text"
   ]
  },
  {
   "cell_type": "code",
   "execution_count": 10,
   "metadata": {},
   "outputs": [],
   "source": [
    "dico = json.loads(request.text)\n",
    "voyages = dico['records']"
   ]
  },
  {
   "cell_type": "code",
   "execution_count": 11,
   "metadata": {},
   "outputs": [
    {
     "name": "stdout",
     "output_type": "stream",
     "text": [
      "4 {'datasetid': 'tgvmax', 'recordid': '0a70c9698f40a395d36eab887e8c43e24ef92a10', 'fields': {'heure_arrivee': '21:42', 'code_equip': 'TGF', 'date': '2022-06-22', 'train_no': '6925', 'destination': 'GRENOBLE', 'origine': 'PARIS (intramuros)', 'entity': 'PAGRENOBLE', 'origine_iata': 'FRPLY', 'od_happy_card': 'NON', 'axe': 'SUD-EST', 'destination_iata': 'FRGNB', 'heure_depart': '18:42'}, 'record_timestamp': '2022-06-16T05:30:01.413Z'}\n",
      "5 {'datasetid': 'tgvmax', 'recordid': '7be9557ad920d7c177756441565bae06889abf26', 'fields': {'heure_arrivee': '20:42', 'code_equip': 'TGF', 'date': '2022-06-22', 'train_no': '6923', 'destination': 'GRENOBLE', 'origine': 'PARIS (intramuros)', 'entity': 'PAGRENOBLE', 'origine_iata': 'FRPLY', 'od_happy_card': 'NON', 'axe': 'SUD-EST', 'destination_iata': 'FRGNB', 'heure_depart': '17:41'}, 'record_timestamp': '2022-06-16T05:30:01.413Z'}\n"
     ]
    }
   ],
   "source": [
    "for (i,voyage) in enumerate(voyages) :\n",
    "    heure_depart = time_to_int(voyage['fields']['heure_depart'])\n",
    "    if heure_depart>=int(heure_min) and heure_depart<=int(heure_max):\n",
    "        print(i,voyage)\n"
   ]
  },
  {
   "cell_type": "code",
   "execution_count": null,
   "metadata": {},
   "outputs": [],
   "source": []
  }
 ],
 "metadata": {
  "kernelspec": {
   "display_name": "Python 3 (ipykernel)",
   "language": "python",
   "name": "python3"
  },
  "language_info": {
   "codemirror_mode": {
    "name": "ipython",
    "version": 3
   },
   "file_extension": ".py",
   "mimetype": "text/x-python",
   "name": "python",
   "nbconvert_exporter": "python",
   "pygments_lexer": "ipython3",
   "version": "3.8.10"
  }
 },
 "nbformat": 4,
 "nbformat_minor": 4
}
