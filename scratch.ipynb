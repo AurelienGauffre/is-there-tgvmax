{
 "cells": [
  {
   "cell_type": "code",
   "execution_count": 1,
   "metadata": {
    "tags": []
   },
   "outputs": [],
   "source": [
    "# !pip3 install gspread\n",
    "# !pip3 install --upgrade google-api-python-client oauth2client "
   ]
  },
  {
   "cell_type": "code",
   "execution_count": 9,
   "metadata": {},
   "outputs": [],
   "source": [
    "import requests \n",
    "import json\n",
    "import gspread\n",
    "import os\n",
    "import pandas as pd\n",
    "from oauth2client.service_account import ServiceAccountCredentials"
   ]
  },
  {
   "cell_type": "code",
   "execution_count": 10,
   "metadata": {
    "tags": []
   },
   "outputs": [],
   "source": [
    "def date_to_url(s):\n",
    "    \"\"\" input 17/05/1996 \n",
    "        return 19962F052F17 (url format)\"\"\"\n",
    "    l = s.split('/')\n",
    "    if len(l)==2:\n",
    "        year=2022\n",
    "        day,month = l\n",
    "    elif len(l)==3:\n",
    "        day,month,year = l\n",
    "\n",
    "    return f'{year}%2F{month}%2F{day}'\n",
    "def time_to_int(date):\n",
    "    return int(date.split(':')[0])\n",
    "def get_number_of_row(sh):\n",
    "    return len(sh.col_values(1))"
   ]
  },
  {
   "cell_type": "code",
   "execution_count": 15,
   "metadata": {},
   "outputs": [
    {
     "name": "stdout",
     "output_type": "stream",
     "text": [
      "PARIS+(intramuros) GRENOBLE 22/06 17 21 2 FALSE FALSE\n",
      "GRENOBLE PARIS+(intramuros) 01/06 15 22 0 FALSE FALSE\n",
      "BIARRITZ GRENOBLE 23/06 10 18 0 FALSE FALSE\n",
      "PARIS+(intramuros) BORDEAUX+ST+JEAN 27/06 0 24  FALSE FALSE\n"
     ]
    }
   ],
   "source": [
    "gc = gspread.service_account(filename=os.path.abspath('istheretgvmax-5273da7c9b7a.json')) #Put the path of your own json google token\n",
    "sh = gc.open(\"is-there-tgvmax\")\n",
    "worksheet_list = [sh for sh in sh.worksheets() if '@' in sh.title]\n",
    "\n",
    "sh=worksheet_list[0]\n",
    "row_values = range(2,get_number_of_row(sh)+1)\n",
    "for row_value in row_values:\n",
    "    origine,destination,date,heure_min,heure_max,_,email_envoye,force_update=sh.row_values(row_value)\n",
    "    print(origine,destination,date,heure_min,heure_max,_,email_envoye,force_update)\n",
    "    request_start = 'https://ressources.data.sncf.com/api/records/1.0/search/?dataset=tgvmax&q=&sort=-date&facet=date&facet=origine&facet=destination&facet=od_happy_card'\n",
    "    full_request = f'{request_start}&refine.destination={destination}&refine.origine={origine}&refine.date={date_to_url(date)}'\n",
    "    request=requests.get(full_request)\n",
    "    dico = json.loads(request.text)\n",
    "    voyages = dico['records']\n",
    "    nb_trouve = 0\n",
    "    for (i,voyage) in enumerate(voyages):\n",
    "        heure_depart = time_to_int(voyage['fields']['heure_depart'])\n",
    "        if heure_depart>=int(heure_min) and heure_depart<=int(heure_max):\n",
    "            nb_trouve +=1\n",
    "    sh.update(f'F{row_value}', nb_trouve)\n"
   ]
  },
  {
   "cell_type": "code",
   "execution_count": null,
   "metadata": {},
   "outputs": [],
   "source": []
  },
  {
   "cell_type": "code",
   "execution_count": null,
   "metadata": {},
   "outputs": [],
   "source": []
  }
 ],
 "metadata": {
  "kernelspec": {
   "display_name": "Python 3 (ipykernel)",
   "language": "python",
   "name": "python3"
  },
  "language_info": {
   "codemirror_mode": {
    "name": "ipython",
    "version": 3
   },
   "file_extension": ".py",
   "mimetype": "text/x-python",
   "name": "python",
   "nbconvert_exporter": "python",
   "pygments_lexer": "ipython3",
   "version": "3.8.11"
  }
 },
 "nbformat": 4,
 "nbformat_minor": 4
}
